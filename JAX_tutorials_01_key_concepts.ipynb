{
  "nbformat": 4,
  "nbformat_minor": 0,
  "metadata": {
    "colab": {
      "provenance": [],
      "authorship_tag": "ABX9TyO8Jit0vlvL0kO1t11oGQDw",
      "include_colab_link": true
    },
    "kernelspec": {
      "name": "python3",
      "display_name": "Python 3"
    },
    "language_info": {
      "name": "python"
    }
  },
  "cells": [
    {
      "cell_type": "markdown",
      "metadata": {
        "id": "view-in-github",
        "colab_type": "text"
      },
      "source": [
        "<a href=\"https://colab.research.google.com/github/Jitendra4Jalwaniya/jax_tutorial/blob/main/JAX_tutorials_01_key_concepts.ipynb\" target=\"_parent\"><img src=\"https://colab.research.google.com/assets/colab-badge.svg\" alt=\"Open In Colab\"/></a>"
      ]
    },
    {
      "cell_type": "code",
      "execution_count": 1,
      "metadata": {
        "id": "jsEL6XB8gOG-"
      },
      "outputs": [],
      "source": [
        "import jax\n",
        "import jax.numpy as jnp"
      ]
    },
    {
      "cell_type": "code",
      "source": [
        "x = jnp.arange(5)\n",
        "isinstance(x, jax.Array)"
      ],
      "metadata": {
        "colab": {
          "base_uri": "https://localhost:8080/"
        },
        "id": "jarMMFYCgW8E",
        "outputId": "b4af24d9-78e7-45c4-cf73-8a25dd02c712"
      },
      "execution_count": 2,
      "outputs": [
        {
          "output_type": "execute_result",
          "data": {
            "text/plain": [
              "True"
            ]
          },
          "metadata": {},
          "execution_count": 2
        }
      ]
    },
    {
      "cell_type": "code",
      "source": [
        "x.devices()"
      ],
      "metadata": {
        "colab": {
          "base_uri": "https://localhost:8080/"
        },
        "id": "CJUWLDFZgYWc",
        "outputId": "f874ac0c-6b8b-414c-8ef9-9e9b0fbfe498"
      },
      "execution_count": 3,
      "outputs": [
        {
          "output_type": "execute_result",
          "data": {
            "text/plain": [
              "{CpuDevice(id=0)}"
            ]
          },
          "metadata": {},
          "execution_count": 3
        }
      ]
    },
    {
      "cell_type": "code",
      "source": [
        "x.sharding"
      ],
      "metadata": {
        "colab": {
          "base_uri": "https://localhost:8080/"
        },
        "id": "L1dtGIF_gZjo",
        "outputId": "88012553-cf4b-4f0a-e7c9-c0cf273d6bda"
      },
      "execution_count": 4,
      "outputs": [
        {
          "output_type": "execute_result",
          "data": {
            "text/plain": [
              "SingleDeviceSharding(device=CpuDevice(id=0), memory_kind=unpinned_host)"
            ]
          },
          "metadata": {},
          "execution_count": 4
        }
      ]
    },
    {
      "cell_type": "code",
      "source": [
        "def selu(x, alpha=1.67, lambda_=1.05):\n",
        "  return lambda_ * jnp.where(x > 0, x, alpha * jnp.exp(x) - alpha)"
      ],
      "metadata": {
        "id": "HFgO1-qUgbaP"
      },
      "execution_count": 5,
      "outputs": []
    },
    {
      "cell_type": "code",
      "source": [
        "selu_jit = jax.jit(selu)\n",
        "selu_jit(1)"
      ],
      "metadata": {
        "colab": {
          "base_uri": "https://localhost:8080/"
        },
        "id": "HVXeKiIhgcrI",
        "outputId": "6a83de40-d3b3-4069-e7c4-06a98b11c63f"
      },
      "execution_count": 6,
      "outputs": [
        {
          "output_type": "execute_result",
          "data": {
            "text/plain": [
              "Array(1.05, dtype=float32, weak_type=True)"
            ]
          },
          "metadata": {},
          "execution_count": 6
        }
      ]
    },
    {
      "cell_type": "code",
      "source": [
        "@jax.jit\n",
        "def selu(x, alpha=1.67, lambda_=1.05):\n",
        "  return lambda_ * jnp.where(x > 0, x, alpha * jnp.exp(x) - alpha)"
      ],
      "metadata": {
        "id": "0aehu_APgeRr"
      },
      "execution_count": 7,
      "outputs": []
    },
    {
      "cell_type": "code",
      "source": [
        "@jax.jit\n",
        "def f(x):\n",
        "  print(x)\n",
        "  return x + 1\n",
        "\n",
        "x = jnp.arange(5)\n",
        "result = f(x)"
      ],
      "metadata": {
        "colab": {
          "base_uri": "https://localhost:8080/"
        },
        "id": "OLdXcTIWgf06",
        "outputId": "0e31f9c7-dd51-438f-9ac7-3bc83f60f6c7"
      },
      "execution_count": 8,
      "outputs": [
        {
          "output_type": "stream",
          "name": "stdout",
          "text": [
            "Traced<ShapedArray(int32[5])>with<DynamicJaxprTrace>\n"
          ]
        }
      ]
    },
    {
      "cell_type": "markdown",
      "source": [
        "# **JaxPR (JAX exPRessions)**"
      ],
      "metadata": {
        "id": "H-kb275BglAS"
      }
    },
    {
      "cell_type": "code",
      "source": [
        "def selu(x, alpha=1.67, lambda_=1.05):\n",
        "  return lambda_ * jnp.where(x > 0, x, alpha * jnp.exp(x) - alpha)"
      ],
      "metadata": {
        "id": "SxT4KwdgghNq"
      },
      "execution_count": 9,
      "outputs": []
    },
    {
      "cell_type": "code",
      "source": [
        "x = jnp.arange(5.0)\n",
        "jax.make_jaxpr(selu)(x)"
      ],
      "metadata": {
        "colab": {
          "base_uri": "https://localhost:8080/"
        },
        "id": "4RHXaZ5Jgn0c",
        "outputId": "fb0e0cd4-849d-4b5b-a754-4dacb7c05430"
      },
      "execution_count": 10,
      "outputs": [
        {
          "output_type": "execute_result",
          "data": {
            "text/plain": [
              "{ lambda ; a:f32[5]. let\n",
              "    b:bool[5] = gt a 0.0\n",
              "    c:f32[5] = exp a\n",
              "    d:f32[5] = mul 1.6699999570846558 c\n",
              "    e:f32[5] = sub d 1.6699999570846558\n",
              "    f:f32[5] = pjit[\n",
              "      name=_where\n",
              "      jaxpr={ lambda ; g:bool[5] h:f32[5] i:f32[5]. let\n",
              "          j:f32[5] = select_n g i h\n",
              "        in (j,) }\n",
              "    ] b a e\n",
              "    k:f32[5] = mul 1.0499999523162842 f\n",
              "  in (k,) }"
            ]
          },
          "metadata": {},
          "execution_count": 10
        }
      ]
    },
    {
      "cell_type": "markdown",
      "source": [
        "# **Pytrees**"
      ],
      "metadata": {
        "id": "WXFQJKZigrq0"
      }
    },
    {
      "cell_type": "code",
      "source": [
        "# (nested) list of parameters\n",
        "params = [1, 2, (jnp.arange(3), jnp.ones(2))]\n",
        "\n",
        "print(jax.tree.structure(params))\n",
        "print(jax.tree.leaves(params))"
      ],
      "metadata": {
        "colab": {
          "base_uri": "https://localhost:8080/"
        },
        "id": "aH2WUJvQgpCi",
        "outputId": "cae000e4-3cfc-4c4b-e5fc-3c0a756c4eea"
      },
      "execution_count": 11,
      "outputs": [
        {
          "output_type": "stream",
          "name": "stdout",
          "text": [
            "PyTreeDef([*, *, (*, *)])\n",
            "[1, 2, Array([0, 1, 2], dtype=int32), Array([1., 1.], dtype=float32)]\n"
          ]
        }
      ]
    },
    {
      "cell_type": "code",
      "source": [
        "# Dictionary of parameters\n",
        "params = {'n': 5, 'W': jnp.ones((2, 2)), 'b': jnp.zeros(2)}\n",
        "\n",
        "print(jax.tree.structure(params))\n",
        "print(jax.tree.leaves(params))"
      ],
      "metadata": {
        "colab": {
          "base_uri": "https://localhost:8080/"
        },
        "id": "JFHmjaNGgyar",
        "outputId": "bdb78188-5df0-4fee-efa0-e2f6dd2a21e2"
      },
      "execution_count": 12,
      "outputs": [
        {
          "output_type": "stream",
          "name": "stdout",
          "text": [
            "PyTreeDef({'W': *, 'b': *, 'n': *})\n",
            "[Array([[1., 1.],\n",
            "       [1., 1.]], dtype=float32), Array([0., 0.], dtype=float32), 5]\n"
          ]
        }
      ]
    },
    {
      "cell_type": "code",
      "source": [
        "# Named tuple of parameters\n",
        "from typing import NamedTuple\n",
        "\n",
        "class Params(NamedTuple):\n",
        "  a: int\n",
        "  b: float\n",
        "\n",
        "params = Params(1, 5.0)\n",
        "print(jax.tree.structure(params))\n",
        "print(jax.tree.leaves(params))"
      ],
      "metadata": {
        "colab": {
          "base_uri": "https://localhost:8080/"
        },
        "id": "0FSKCcRBgz9i",
        "outputId": "bd76184d-80ae-4a54-afd1-fb0d131a1f63"
      },
      "execution_count": 13,
      "outputs": [
        {
          "output_type": "stream",
          "name": "stdout",
          "text": [
            "PyTreeDef(CustomNode(namedtuple[Params], [*, *]))\n",
            "[1, 5.0]\n"
          ]
        }
      ]
    },
    {
      "cell_type": "markdown",
      "source": [
        "**Pseudorandom numbers**"
      ],
      "metadata": {
        "id": "zQRwnej4g5A-"
      }
    },
    {
      "cell_type": "code",
      "source": [
        "from jax import random\n",
        "\n",
        "key = random.key(41)\n",
        "print(key)"
      ],
      "metadata": {
        "colab": {
          "base_uri": "https://localhost:8080/"
        },
        "id": "w0nQR8w4g1eB",
        "outputId": "7e564fce-4c22-41ad-9a3f-a7f802e3d4f9"
      },
      "execution_count": 14,
      "outputs": [
        {
          "output_type": "stream",
          "name": "stdout",
          "text": [
            "Array((), dtype=key<fry>) overlaying:\n",
            "[ 0 41]\n"
          ]
        }
      ]
    },
    {
      "cell_type": "code",
      "source": [
        "print(random.normal(key))\n",
        "print(random.normal(key))"
      ],
      "metadata": {
        "colab": {
          "base_uri": "https://localhost:8080/"
        },
        "id": "PxY8Wmnxg6rO",
        "outputId": "d066a75c-8c01-430d-bfb7-687c49b0a0b7"
      },
      "execution_count": 15,
      "outputs": [
        {
          "output_type": "stream",
          "name": "stdout",
          "text": [
            "1.4689026\n",
            "1.4689026\n"
          ]
        }
      ]
    },
    {
      "cell_type": "code",
      "source": [
        "for i in range(3):\n",
        "  new_key, subkey = random.split(key)\n",
        "  del key  # The old key is consumed by split() -- we must never use it again.\n",
        "\n",
        "  val = random.normal(subkey)\n",
        "  del subkey  # The subkey is consumed by normal().\n",
        "\n",
        "  print(f\"draw {i}: {val}\")\n",
        "  key = new_key  # new_key is safe to use in the next iteration."
      ],
      "metadata": {
        "colab": {
          "base_uri": "https://localhost:8080/"
        },
        "id": "OU_QMAFRg70s",
        "outputId": "e504ab1b-7893-4fcf-e92a-518a02a83043"
      },
      "execution_count": 16,
      "outputs": [
        {
          "output_type": "stream",
          "name": "stdout",
          "text": [
            "draw 0: 1.7297863960266113\n",
            "draw 1: -0.3624328076839447\n",
            "draw 2: 2.534754991531372\n"
          ]
        }
      ]
    }
  ]
}