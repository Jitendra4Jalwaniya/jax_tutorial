{
  "nbformat": 4,
  "nbformat_minor": 0,
  "metadata": {
    "colab": {
      "provenance": [],
      "authorship_tag": "ABX9TyNyA0B9GlvIC+gfVVwla7ZE",
      "include_colab_link": true
    },
    "kernelspec": {
      "name": "python3",
      "display_name": "Python 3"
    },
    "language_info": {
      "name": "python"
    }
  },
  "cells": [
    {
      "cell_type": "markdown",
      "metadata": {
        "id": "view-in-github",
        "colab_type": "text"
      },
      "source": [
        "<a href=\"https://colab.research.google.com/github/Jitendra4Jalwaniya/jax_tutorial/blob/main/JAX_tutorials_02_JIT.ipynb\" target=\"_parent\"><img src=\"https://colab.research.google.com/assets/colab-badge.svg\" alt=\"Open In Colab\"/></a>"
      ]
    },
    {
      "cell_type": "code",
      "execution_count": 1,
      "metadata": {
        "id": "YLjDRG6RhpBy"
      },
      "outputs": [],
      "source": [
        "import jax\n",
        "import jax.numpy as jnp"
      ]
    },
    {
      "cell_type": "code",
      "source": [
        "global_list = []\n",
        "\n",
        "def log2(x):\n",
        "  global_list.append(x)\n",
        "  ln_x = jnp.log(x)\n",
        "  ln_2 = jnp.log(2.0)\n",
        "  return ln_x / ln_2\n",
        "\n",
        "print(jax.make_jaxpr(log2)(3.0))"
      ],
      "metadata": {
        "colab": {
          "base_uri": "https://localhost:8080/"
        },
        "id": "JcaEbKb6hv66",
        "outputId": "0a70ad87-8dd5-459f-8b7e-9efe7ae30de1"
      },
      "execution_count": 2,
      "outputs": [
        {
          "output_type": "stream",
          "name": "stdout",
          "text": [
            "{ lambda ; a:f32[]. let\n",
            "    b:f32[] = log a\n",
            "    c:f32[] = log 2.0\n",
            "    d:f32[] = div b c\n",
            "  in (d,) }\n"
          ]
        }
      ]
    },
    {
      "cell_type": "code",
      "source": [
        "def log2_with_print(x):\n",
        "  print(\"printed x:\", x)\n",
        "  ln_x = jnp.log(x)\n",
        "  ln_2 = jnp.log(2.0)\n",
        "  return ln_x / ln_2\n",
        "\n",
        "print(jax.make_jaxpr(log2_with_print)(3.))"
      ],
      "metadata": {
        "colab": {
          "base_uri": "https://localhost:8080/"
        },
        "id": "MOgTPAm8hxwH",
        "outputId": "f92c00f6-18cc-45e5-e813-ed619c2099ed"
      },
      "execution_count": 3,
      "outputs": [
        {
          "output_type": "stream",
          "name": "stdout",
          "text": [
            "printed x: Traced<ShapedArray(float32[], weak_type=True)>with<DynamicJaxprTrace>\n",
            "{ lambda ; a:f32[]. let\n",
            "    b:f32[] = log a\n",
            "    c:f32[] = log 2.0\n",
            "    d:f32[] = div b c\n",
            "  in (d,) }\n"
          ]
        }
      ]
    },
    {
      "cell_type": "code",
      "source": [
        "def log2_if_rank_2(x):\n",
        "  if x.ndim == 2:\n",
        "    ln_x = jnp.log(x)\n",
        "    ln_2 = jnp.log(2.0)\n",
        "    return ln_x / ln_2\n",
        "  else:\n",
        "    return x\n",
        "\n",
        "print(jax.make_jaxpr(log2_if_rank_2)(jax.numpy.array([1, 2, 3])))"
      ],
      "metadata": {
        "colab": {
          "base_uri": "https://localhost:8080/"
        },
        "id": "QVVle7SuC9YB",
        "outputId": "4be2717a-fdb9-4352-f8c8-96b88ea13425"
      },
      "execution_count": 4,
      "outputs": [
        {
          "output_type": "stream",
          "name": "stdout",
          "text": [
            "{ lambda ; a:i32[3]. let  in (a,) }\n"
          ]
        }
      ]
    },
    {
      "cell_type": "code",
      "source": [
        "import jax\n",
        "import jax.numpy as jnp\n",
        "\n",
        "def selu(x, alpha=1.67, lambda_=1.05):\n",
        "  return lambda_ * jnp.where(x > 0, x, alpha * jnp.exp(x) - alpha)\n",
        "\n",
        "x = jnp.arange(1000000)\n",
        "%timeit selu(x).block_until_ready()"
      ],
      "metadata": {
        "colab": {
          "base_uri": "https://localhost:8080/"
        },
        "id": "sUV-oXGfH5zJ",
        "outputId": "94516bfc-2d15-4f74-e7bf-bc8711bc3efe"
      },
      "execution_count": 5,
      "outputs": [
        {
          "output_type": "stream",
          "name": "stdout",
          "text": [
            "14.2 ms ± 2.36 ms per loop (mean ± std. dev. of 7 runs, 1 loop each)\n"
          ]
        }
      ]
    },
    {
      "cell_type": "code",
      "source": [
        "selu_jit = jax.jit(selu)\n",
        "\n",
        "# Pre-compile the function before timing...\n",
        "selu_jit(x).block_until_ready()\n",
        "\n",
        "%timeit selu_jit(x).block_until_ready()"
      ],
      "metadata": {
        "colab": {
          "base_uri": "https://localhost:8080/"
        },
        "id": "CLvoOctZJrnO",
        "outputId": "5238a44b-53f0-43cd-f38a-ad15af334c09"
      },
      "execution_count": 9,
      "outputs": [
        {
          "output_type": "stream",
          "name": "stdout",
          "text": [
            "1.11 ms ± 123 µs per loop (mean ± std. dev. of 7 runs, 1000 loops each)\n"
          ]
        }
      ]
    },
    {
      "cell_type": "code",
      "source": [
        "# While loop conditioned on x and n with a jitted body.\n",
        "\n",
        "@jax.jit\n",
        "def loop_body(prev_i):\n",
        "  return prev_i + 1\n",
        "\n",
        "def g_inner_jitted(x, n):\n",
        "  i = 0\n",
        "  while i < n:\n",
        "    i = loop_body(i)\n",
        "  return x + i\n",
        "\n",
        "g_inner_jitted(10, 20)"
      ],
      "metadata": {
        "colab": {
          "base_uri": "https://localhost:8080/"
        },
        "id": "iWb2Mgu8KBw1",
        "outputId": "9489ca52-81c1-435b-94b8-4a10f8623a7d"
      },
      "execution_count": 10,
      "outputs": [
        {
          "output_type": "execute_result",
          "data": {
            "text/plain": [
              "Array(30, dtype=int32, weak_type=True)"
            ]
          },
          "metadata": {},
          "execution_count": 10
        }
      ]
    },
    {
      "cell_type": "markdown",
      "source": [
        "**Making arguments as Static**"
      ],
      "metadata": {
        "id": "pwsfnMbIQT13"
      }
    },
    {
      "cell_type": "code",
      "source": [
        "# Condition on value of x.\n",
        "\n",
        "def f(x):\n",
        "  if x > 0:\n",
        "    return x\n",
        "  else:\n",
        "    return 2 * x\n",
        "\n",
        "f_jit_correct = jax.jit(f, static_argnums=0)\n",
        "print(f_jit_correct(10))"
      ],
      "metadata": {
        "colab": {
          "base_uri": "https://localhost:8080/"
        },
        "id": "Oe5i8GOEPaOj",
        "outputId": "4f6bab6f-195f-4aaa-eae4-eb508da7b6f3"
      },
      "execution_count": 12,
      "outputs": [
        {
          "output_type": "stream",
          "name": "stdout",
          "text": [
            "10\n"
          ]
        }
      ]
    },
    {
      "cell_type": "code",
      "source": [
        "# While loop conditioned on x and n.\n",
        "\n",
        "def g(x, n):\n",
        "  i = 0\n",
        "  while i < n:\n",
        "    i += 1\n",
        "  return x + i\n",
        "\n",
        "g_jit_correct = jax.jit(g, static_argnames=['n'])\n",
        "print(g_jit_correct(10, 20))"
      ],
      "metadata": {
        "colab": {
          "base_uri": "https://localhost:8080/"
        },
        "id": "Dwi0JMXaQL2D",
        "outputId": "cc7620ed-4879-43dd-eda3-47199cb10f62"
      },
      "execution_count": 13,
      "outputs": [
        {
          "output_type": "stream",
          "name": "stdout",
          "text": [
            "30\n"
          ]
        }
      ]
    },
    {
      "cell_type": "code",
      "source": [
        "from functools import partial\n",
        "\n",
        "@partial(jax.jit, static_argnames=['n'])\n",
        "def g_jit_decorated(x, n):\n",
        "  i = 0\n",
        "  while i < n:\n",
        "    i += 1\n",
        "  return x + i\n",
        "\n",
        "print(g_jit_decorated(10, 20))"
      ],
      "metadata": {
        "colab": {
          "base_uri": "https://localhost:8080/"
        },
        "id": "9puupFlYQlSF",
        "outputId": "d8211a61-f464-4118-bb57-9bb0abe01da8"
      },
      "execution_count": 14,
      "outputs": [
        {
          "output_type": "stream",
          "name": "stdout",
          "text": [
            "30\n"
          ]
        }
      ]
    },
    {
      "cell_type": "markdown",
      "source": [
        "**JIT & Caching**"
      ],
      "metadata": {
        "id": "v1OFFeQCQvwG"
      }
    },
    {
      "cell_type": "code",
      "source": [
        "from functools import partial\n",
        "\n",
        "def unjitted_loop_body(prev_i):\n",
        "  return prev_i + 1\n",
        "\n",
        "def g_inner_jitted_partial(x, n):\n",
        "  i = 0\n",
        "  while i < n:\n",
        "    # Don't do this! each time the partial returns\n",
        "    # a function with different hash\n",
        "    i = jax.jit(partial(unjitted_loop_body))(i)\n",
        "  return x + i\n",
        "\n",
        "def g_inner_jitted_lambda(x, n):\n",
        "  i = 0\n",
        "  while i < n:\n",
        "    # Don't do this!, lambda will also return\n",
        "    # a function with a different hash\n",
        "    i = jax.jit(lambda x: unjitted_loop_body(x))(i)\n",
        "  return x + i\n",
        "\n",
        "def g_inner_jitted_normal(x, n):\n",
        "  i = 0\n",
        "  while i < n:\n",
        "    # this is OK, since JAX can find the\n",
        "    # cached, compiled function\n",
        "    i = jax.jit(unjitted_loop_body)(i)\n",
        "  return x + i\n",
        "\n",
        "print(\"jit called in a loop with partials:\")\n",
        "%timeit g_inner_jitted_partial(10, 20).block_until_ready()\n",
        "\n",
        "print(\"jit called in a loop with lambdas:\")\n",
        "%timeit g_inner_jitted_lambda(10, 20).block_until_ready()\n",
        "\n",
        "print(\"jit called in a loop with caching:\")\n",
        "%timeit g_inner_jitted_normal(10, 20).block_until_ready()"
      ],
      "metadata": {
        "colab": {
          "base_uri": "https://localhost:8080/"
        },
        "id": "ndmT7oL0QvPM",
        "outputId": "5932a4fe-032c-46cd-a4ad-a68ae0cf732a"
      },
      "execution_count": 15,
      "outputs": [
        {
          "output_type": "stream",
          "name": "stdout",
          "text": [
            "jit called in a loop with partials:\n",
            "410 ms ± 8.69 ms per loop (mean ± std. dev. of 7 runs, 1 loop each)\n",
            "jit called in a loop with lambdas:\n",
            "409 ms ± 5.56 ms per loop (mean ± std. dev. of 7 runs, 1 loop each)\n",
            "jit called in a loop with caching:\n",
            "2.95 ms ± 162 µs per loop (mean ± std. dev. of 7 runs, 100 loops each)\n"
          ]
        }
      ]
    },
    {
      "cell_type": "code",
      "source": [],
      "metadata": {
        "id": "7xrIW6nnSSvY"
      },
      "execution_count": null,
      "outputs": []
    }
  ]
}